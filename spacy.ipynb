{
  "nbformat": 4,
  "nbformat_minor": 0,
  "metadata": {
    "kernelspec": {
      "display_name": "Python 3",
      "language": "python",
      "name": "python3"
    },
    "language_info": {
      "codemirror_mode": {
        "name": "ipython",
        "version": 3
      },
      "file_extension": ".py",
      "mimetype": "text/x-python",
      "name": "python",
      "nbconvert_exporter": "python",
      "pygments_lexer": "ipython3",
      "version": "3.8.5"
    },
    "colab": {
      "name": "spacy.ipynb",
      "provenance": [],
      "include_colab_link": true
    }
  },
  "cells": [
    {
      "cell_type": "markdown",
      "metadata": {
        "id": "view-in-github",
        "colab_type": "text"
      },
      "source": [
        "<a href=\"https://colab.research.google.com/github/OussamaRchouk/TP1_TP2/blob/main/spacy.ipynb\" target=\"_parent\"><img src=\"https://colab.research.google.com/assets/colab-badge.svg\" alt=\"Open In Colab\"/></a>"
      ]
    },
    {
      "cell_type": "markdown",
      "metadata": {
        "id": "LOExoUWJBefu"
      },
      "source": [
        ""
      ]
    },
    {
      "cell_type": "markdown",
      "metadata": {
        "id": "pl-6-c7WBegT"
      },
      "source": [
        "### Load library"
      ]
    },
    {
      "cell_type": "code",
      "metadata": {
        "id": "wm14XGtNBegY"
      },
      "source": [
        "import spacy\n",
        "from spacy.lang.ar import *"
      ],
      "execution_count": null,
      "outputs": []
    },
    {
      "cell_type": "markdown",
      "metadata": {
        "id": "uYNq-TSQBegd"
      },
      "source": [
        "### Load Data"
      ]
    },
    {
      "cell_type": "code",
      "metadata": {
        "id": "n0-MIOTDBegg"
      },
      "source": [
        "english_text = \"\"\"Perhaps one of the most significant advances made by Arabic mathematics began at this time with the work of al-Khwarizmi, namely the beginnings of algebra. It is important to understand just how significant this new idea was. It was a revolutionary move away from the Greek concept of mathematics which was essentially geometry. Algebra was a unifying theory which allowedrational numbers,irrational numbers, geometrical magnitudes, etc., to all be treated as \\\"algebraic objects\\\". It gave mathematics a whole new development path so much broader in concept to that which had existed before, and provided a vehicle for future development of the subject. Another important aspect of the introduction of algebraic ideas was that it allowed mathematics to be applied to itselfin a way which had not happened before.\"\"\""
      ],
      "execution_count": null,
      "outputs": []
    },
    {
      "cell_type": "code",
      "metadata": {
        "id": "r57O3eCNBegn"
      },
      "source": [
        "arabic_text =\"\"\"ربما كانت أحد أهم التطورات التي قامت بها الرياضيات العربية التي بدأت في هذا الوقت بعمل الخوارزمي وهي بدايات الجبر, ومن المهم فهم كيف كانت هذه الفكرة الجديدة مهمة, فقد كانت خطوة نورية بعيدا عن المفهوم اليوناني للرياضيات التي هي في جوهرها هندسة, الجبر کان نظرية موحدة تتيح الأعداد الكسرية والأعداد اللا كسرية, والمقادير الهندسية وغيرها, أن تتعامل على أنها أجسام جبرية, وأعطت الرياضيات ككل مسارا جديدا للتطور بمفهوم أوسع بكثير من الذي كان موجودا من قبل, وقم وسيلة للتنمية في هذا الموضوع مستقبلا. وجانب آخر مهم لإدخال أفكار الجبر وهو أنه سمح بتطبيق الرياضيات على نفسها بطريقة لم تحدث من قبل\"\"\""
      ],
      "execution_count": null,
      "outputs": []
    },
    {
      "cell_type": "markdown",
      "metadata": {
        "id": "jkPFZNbJBegz"
      },
      "source": [
        "## Tokenization"
      ]
    },
    {
      "cell_type": "code",
      "metadata": {
        "id": "Oo5giuVOBeg9"
      },
      "source": [
        "nlp = spacy.load(\"en_core_web_sm\")"
      ],
      "execution_count": null,
      "outputs": []
    },
    {
      "cell_type": "code",
      "metadata": {
        "id": "dEV4BoV3BehO"
      },
      "source": [
        "doc_ar = Arabic()\n",
        "doc_ar = nlp(arabic_text)"
      ],
      "execution_count": null,
      "outputs": []
    },
    {
      "cell_type": "code",
      "metadata": {
        "id": "SbGXMMFaBehX"
      },
      "source": [
        "doc_en = nlp(english_text)"
      ],
      "execution_count": null,
      "outputs": []
    },
    {
      "cell_type": "code",
      "metadata": {
        "colab": {
          "base_uri": "https://localhost:8080/"
        },
        "id": "iaqi4TZyBeha",
        "outputId": "9473bcfe-3c51-4f64-bb29-9b2c477c5e57"
      },
      "source": [
        "for token in doc_ar:\n",
        "    print(token.text)\n",
        "    \n",
        "for token in doc_en:\n",
        "    print(token.text)"
      ],
      "execution_count": null,
      "outputs": [
        {
          "output_type": "stream",
          "name": "stdout",
          "text": [
            "ربما\n",
            "كانت\n",
            "أحد\n",
            "أهم\n",
            "التطورات\n",
            "التي\n",
            "قامت\n",
            "بها\n",
            "الرياضيات\n",
            "العربية\n",
            "التي\n",
            "بدأت\n",
            "في\n",
            "هذا\n",
            "الوقت\n",
            "بعمل\n",
            "الخوارزمي\n",
            "وهي\n",
            "بدايات\n",
            "الجبر\n",
            ",\n",
            "ومن\n",
            "المهم\n",
            "فهم\n",
            "كيف\n",
            "كانت\n",
            "هذه\n",
            "الفكرة\n",
            "الجديدة\n",
            "مهمة\n",
            ",\n",
            "فقد\n",
            "كانت\n",
            "خطوة\n",
            "نورية\n",
            "بعيدا\n",
            "عن\n",
            "المفهوم\n",
            "اليوناني\n",
            "للرياضيات\n",
            "التي\n",
            "هي\n",
            "في\n",
            "جوهرها\n",
            "هندسة\n",
            ",\n",
            "الجبر\n",
            "کان\n",
            "نظرية\n",
            "موحدة\n",
            "تتيح\n",
            "الأعداد\n",
            "الكسرية\n",
            "والأعداد\n",
            "اللا\n",
            "كسرية\n",
            ",\n",
            "والمقادير\n",
            "الهندسية\n",
            "وغيرها\n",
            ",\n",
            "أن\n",
            "تتعامل\n",
            "على\n",
            "أنها\n",
            "أجسام\n",
            "جبرية\n",
            ",\n",
            "وأعطت\n",
            "الرياضيات\n",
            "ككل\n",
            "مسارا\n",
            "جديدا\n",
            "للتطور\n",
            "بمفهوم\n",
            "أوسع\n",
            "بكثير\n",
            "من\n",
            "الذي\n",
            "كان\n",
            "موجودا\n",
            "من\n",
            "قبل\n",
            ",\n",
            "وقم\n",
            "وسيلة\n",
            "للتنمية\n",
            "في\n",
            "هذا\n",
            "الموضوع\n",
            "مستقبلا\n",
            ".\n",
            "وجانب\n",
            "آخر\n",
            "مهم\n",
            "لإدخال\n",
            "أفكار\n",
            "الجبر\n",
            "وهو\n",
            "أنه\n",
            "سمح\n",
            "بتطبيق\n",
            "الرياضيات\n",
            "على\n",
            "نفسها\n",
            "بطريقة\n",
            "لم\n",
            "تحدث\n",
            "من\n",
            "قبل\n",
            "Perhaps\n",
            "one\n",
            "of\n",
            "the\n",
            "most\n",
            "significant\n",
            "advances\n",
            "made\n",
            "by\n",
            "Arabic\n",
            "mathematics\n",
            "began\n",
            "at\n",
            "this\n",
            "time\n",
            "with\n",
            "the\n",
            "work\n",
            "of\n",
            "al\n",
            "-\n",
            "Khwarizmi\n",
            ",\n",
            "namely\n",
            "the\n",
            "beginnings\n",
            "of\n",
            "algebra\n",
            ".\n",
            "It\n",
            "is\n",
            "important\n",
            "to\n",
            "understand\n",
            "just\n",
            "how\n",
            "significant\n",
            "this\n",
            "new\n",
            "idea\n",
            "was\n",
            ".\n",
            "It\n",
            "was\n",
            "a\n",
            "revolutionary\n",
            "move\n",
            "away\n",
            "from\n",
            "the\n",
            "Greek\n",
            "concept\n",
            "of\n",
            "mathematics\n",
            "which\n",
            "was\n",
            "essentially\n",
            "geometry\n",
            ".\n",
            "Algebra\n",
            "was\n",
            "a\n",
            "unifying\n",
            "theory\n",
            "which\n",
            "allowedrational\n",
            "numbers\n",
            ",\n",
            "irrational\n",
            "numbers\n",
            ",\n",
            "geometrical\n",
            "magnitudes\n",
            ",\n",
            "etc\n",
            ".\n",
            ",\n",
            "to\n",
            "all\n",
            "be\n",
            "treated\n",
            "as\n",
            "\"\n",
            "algebraic\n",
            "objects\n",
            "\"\n",
            ".\n",
            "It\n",
            "gave\n",
            "mathematics\n",
            "a\n",
            "whole\n",
            "new\n",
            "development\n",
            "path\n",
            "so\n",
            "much\n",
            "broader\n",
            "in\n",
            "concept\n",
            "to\n",
            "that\n",
            "which\n",
            "had\n",
            "existed\n",
            "before\n",
            ",\n",
            "and\n",
            "provided\n",
            "a\n",
            "vehicle\n",
            "for\n",
            "future\n",
            "development\n",
            "of\n",
            "the\n",
            "subject\n",
            ".\n",
            "Another\n",
            "important\n",
            "aspect\n",
            "of\n",
            "the\n",
            "introduction\n",
            "of\n",
            "algebraic\n",
            "ideas\n",
            "was\n",
            "that\n",
            "it\n",
            "allowed\n",
            "mathematics\n",
            "to\n",
            "be\n",
            "applied\n",
            "to\n",
            "itselfin\n",
            "a\n",
            "way\n",
            "which\n",
            "had\n",
            "not\n",
            "happened\n",
            "before\n",
            ".\n"
          ]
        }
      ]
    },
    {
      "cell_type": "code",
      "metadata": {
        "colab": {
          "base_uri": "https://localhost:8080/"
        },
        "id": "cgX3uQwNBeht",
        "outputId": "82b819b2-d9d2-4f97-a934-4d8444c95e65"
      },
      "source": [
        "for token in doc_en:\n",
        "    print(token.text, token.pos_, token.tag_)"
      ],
      "execution_count": null,
      "outputs": [
        {
          "output_type": "stream",
          "name": "stdout",
          "text": [
            "Perhaps ADV RB\n",
            "one NUM CD\n",
            "of ADP IN\n",
            "the DET DT\n",
            "most ADV RBS\n",
            "significant ADJ JJ\n",
            "advances NOUN NNS\n",
            "made VERB VBN\n",
            "by ADP IN\n",
            "Arabic ADJ JJ\n",
            "mathematics NOUN NNS\n",
            "began VERB VBD\n",
            "at ADP IN\n",
            "this DET DT\n",
            "time NOUN NN\n",
            "with ADP IN\n",
            "the DET DT\n",
            "work NOUN NN\n",
            "of ADP IN\n",
            "al PROPN NNP\n",
            "- PUNCT HYPH\n",
            "Khwarizmi PROPN NNP\n",
            ", PUNCT ,\n",
            "namely ADV RB\n",
            "the DET DT\n",
            "beginnings NOUN NNS\n",
            "of ADP IN\n",
            "algebra NOUN NN\n",
            ". PUNCT .\n",
            "It PRON PRP\n",
            "is AUX VBZ\n",
            "important ADJ JJ\n",
            "to PART TO\n",
            "understand VERB VB\n",
            "just ADV RB\n",
            "how ADV WRB\n",
            "significant ADJ JJ\n",
            "this DET DT\n",
            "new ADJ JJ\n",
            "idea NOUN NN\n",
            "was AUX VBD\n",
            ". PUNCT .\n",
            "It PRON PRP\n",
            "was AUX VBD\n",
            "a DET DT\n",
            "revolutionary ADJ JJ\n",
            "move NOUN NN\n",
            "away ADV RB\n",
            "from ADP IN\n",
            "the DET DT\n",
            "Greek ADJ JJ\n",
            "concept NOUN NN\n",
            "of ADP IN\n",
            "mathematics NOUN NNS\n",
            "which DET WDT\n",
            "was AUX VBD\n",
            "essentially ADV RB\n",
            "geometry NOUN NN\n",
            ". PUNCT .\n",
            "Algebra PROPN NNP\n",
            "was AUX VBD\n",
            "a DET DT\n",
            "unifying ADJ JJ\n",
            "theory NOUN NN\n",
            "which DET WDT\n",
            "allowedrational ADJ JJ\n",
            "numbers NOUN NNS\n",
            ", PUNCT ,\n",
            "irrational ADJ JJ\n",
            "numbers NOUN NNS\n",
            ", PUNCT ,\n",
            "geometrical ADJ JJ\n",
            "magnitudes NOUN NNS\n",
            ", PUNCT ,\n",
            "etc X FW\n",
            ". X FW\n",
            ", PUNCT ,\n",
            "to ADP IN\n",
            "all DET DT\n",
            "be AUX VB\n",
            "treated VERB VBN\n",
            "as SCONJ IN\n",
            "\" PUNCT ``\n",
            "algebraic ADJ JJ\n",
            "objects NOUN NNS\n",
            "\" PUNCT ''\n",
            ". PUNCT .\n",
            "It PRON PRP\n",
            "gave VERB VBD\n",
            "mathematics NOUN NNS\n",
            "a DET DT\n",
            "whole ADJ JJ\n",
            "new ADJ JJ\n",
            "development NOUN NN\n",
            "path NOUN NN\n",
            "so ADV RB\n",
            "much ADV RB\n",
            "broader ADJ JJR\n",
            "in ADP IN\n",
            "concept NOUN NN\n",
            "to ADP IN\n",
            "that DET DT\n",
            "which DET WDT\n",
            "had AUX VBD\n",
            "existed VERB VBN\n",
            "before ADV RB\n",
            ", PUNCT ,\n",
            "and CCONJ CC\n",
            "provided VERB VBD\n",
            "a DET DT\n",
            "vehicle NOUN NN\n",
            "for ADP IN\n",
            "future ADJ JJ\n",
            "development NOUN NN\n",
            "of ADP IN\n",
            "the DET DT\n",
            "subject NOUN NN\n",
            ". PUNCT .\n",
            "Another DET DT\n",
            "important ADJ JJ\n",
            "aspect NOUN NN\n",
            "of ADP IN\n",
            "the DET DT\n",
            "introduction NOUN NN\n",
            "of ADP IN\n",
            "algebraic ADJ JJ\n",
            "ideas NOUN NNS\n",
            "was AUX VBD\n",
            "that SCONJ IN\n",
            "it PRON PRP\n",
            "allowed VERB VBD\n",
            "mathematics NOUN NNS\n",
            "to PART TO\n",
            "be AUX VB\n",
            "applied VERB VBN\n",
            "to PART TO\n",
            "itselfin VERB VB\n",
            "a DET DT\n",
            "way NOUN NN\n",
            "which DET WDT\n",
            "had AUX VBD\n",
            "not PART RB\n",
            "happened VERB VBN\n",
            "before ADV RB\n",
            ". PUNCT .\n"
          ]
        }
      ]
    },
    {
      "cell_type": "code",
      "metadata": {
        "colab": {
          "base_uri": "https://localhost:8080/"
        },
        "id": "uzBpQs6mBehy",
        "outputId": "efb540d2-36b4-4b85-b670-b14152b155e7"
      },
      "source": [
        "for token in doc_ar:\n",
        "    print(token.text, token.pos_)"
      ],
      "execution_count": null,
      "outputs": [
        {
          "output_type": "stream",
          "name": "stdout",
          "text": [
            "ربما PROPN\n",
            "كانت PROPN\n",
            "أحد PROPN\n",
            "أهم PROPN\n",
            "التطورات PROPN\n",
            "التي PROPN\n",
            "قامت PROPN\n",
            "بها PROPN\n",
            "الرياضيات PROPN\n",
            "العربية PROPN\n",
            "التي PROPN\n",
            "بدأت PROPN\n",
            "في PROPN\n",
            "هذا PROPN\n",
            "الوقت PROPN\n",
            "بعمل PROPN\n",
            "الخوارزمي PROPN\n",
            "وهي PROPN\n",
            "بدايات PROPN\n",
            "الجبر PROPN\n",
            ", PUNCT\n",
            "ومن PROPN\n",
            "المهم PROPN\n",
            "فهم PROPN\n",
            "كيف PROPN\n",
            "كانت PROPN\n",
            "هذه PROPN\n",
            "الفكرة PROPN\n",
            "الجديدة PROPN\n",
            "مهمة PROPN\n",
            ", PUNCT\n",
            "فقد PROPN\n",
            "كانت PROPN\n",
            "خطوة PROPN\n",
            "نورية PROPN\n",
            "بعيدا PROPN\n",
            "عن PROPN\n",
            "المفهوم PROPN\n",
            "اليوناني PROPN\n",
            "للرياضيات PROPN\n",
            "التي PROPN\n",
            "هي PROPN\n",
            "في PROPN\n",
            "جوهرها PROPN\n",
            "هندسة PROPN\n",
            ", PUNCT\n",
            "الجبر PROPN\n",
            "کان PROPN\n",
            "نظرية PROPN\n",
            "موحدة PROPN\n",
            "تتيح PROPN\n",
            "الأعداد PROPN\n",
            "الكسرية PROPN\n",
            "والأعداد PROPN\n",
            "اللا PROPN\n",
            "كسرية PROPN\n",
            ", PUNCT\n",
            "والمقادير PROPN\n",
            "الهندسية PROPN\n",
            "وغيرها PROPN\n",
            ", PUNCT\n",
            "أن PROPN\n",
            "تتعامل PROPN\n",
            "على PROPN\n",
            "أنها PROPN\n",
            "أجسام PROPN\n",
            "جبرية PROPN\n",
            ", PUNCT\n",
            "وأعطت PROPN\n",
            "الرياضيات PROPN\n",
            "ككل PROPN\n",
            "مسارا PROPN\n",
            "جديدا PROPN\n",
            "للتطور PROPN\n",
            "بمفهوم PROPN\n",
            "أوسع PROPN\n",
            "بكثير PROPN\n",
            "من PROPN\n",
            "الذي PROPN\n",
            "كان PROPN\n",
            "موجودا PROPN\n",
            "من PROPN\n",
            "قبل PROPN\n",
            ", PUNCT\n",
            "وقم PROPN\n",
            "وسيلة PROPN\n",
            "للتنمية PROPN\n",
            "في PROPN\n",
            "هذا PROPN\n",
            "الموضوع PROPN\n",
            "مستقبلا PROPN\n",
            ". PUNCT\n",
            "وجانب PROPN\n",
            "آخر PROPN\n",
            "مهم PROPN\n",
            "لإدخال PROPN\n",
            "أفكار PROPN\n",
            "الجبر PROPN\n",
            "وهو PROPN\n",
            "أنه PROPN\n",
            "سمح PROPN\n",
            "بتطبيق PROPN\n",
            "الرياضيات PROPN\n",
            "على PROPN\n",
            "نفسها PROPN\n",
            "بطريقة PROPN\n",
            "لم PROPN\n",
            "تحدث PROPN\n",
            "من PROPN\n",
            "قبل PROPN\n"
          ]
        }
      ]
    },
    {
      "cell_type": "markdown",
      "metadata": {
        "id": "kMeE4CHVBeh0"
      },
      "source": [
        "### Visualizing the dependency parse"
      ]
    },
    {
      "cell_type": "code",
      "metadata": {
        "colab": {
          "base_uri": "https://localhost:8080/"
        },
        "id": "CHwUhfdWBeh1",
        "outputId": "7c375390-f1d2-4e85-e1e9-8cbafeba86c7"
      },
      "source": [
        "from spacy import displacy\n",
        "displacy.serve(doc_en, style=\"dep\")"
      ],
      "execution_count": null,
      "outputs": [
        {
          "output_type": "stream",
          "name": "stdout",
          "text": [
            "Shutting down server on port 5000.\n"
          ]
        }
      ]
    },
    {
      "cell_type": "markdown",
      "metadata": {
        "id": "8gSvOCa_Beh3"
      },
      "source": [
        "### Lemmatization"
      ]
    },
    {
      "cell_type": "code",
      "metadata": {
        "colab": {
          "base_uri": "https://localhost:8080/"
        },
        "id": "UpFjX_HKBeh4",
        "outputId": "98482faf-10a1-496c-9094-2674655f0903"
      },
      "source": [
        "for token in doc_ar:\n",
        "    print(token.text, token.pos_, token.lemma_)"
      ],
      "execution_count": null,
      "outputs": [
        {
          "output_type": "stream",
          "name": "stdout",
          "text": [
            "ربما PROPN ربما\n",
            "كانت PROPN كانت\n",
            "أحد PROPN أحد\n",
            "أهم PROPN أهم\n",
            "التطورات PROPN التطورات\n",
            "التي PROPN التي\n",
            "قامت PROPN قامت\n",
            "بها PROPN بها\n",
            "الرياضيات PROPN الرياضيات\n",
            "العربية PROPN العربية\n",
            "التي PROPN التي\n",
            "بدأت PROPN بدأت\n",
            "في PROPN في\n",
            "هذا PROPN هذا\n",
            "الوقت PROPN الوقت\n",
            "بعمل PROPN بعمل\n",
            "الخوارزمي PROPN الخوارزمي\n",
            "وهي PROPN وهي\n",
            "بدايات PROPN بدايات\n",
            "الجبر PROPN الجبر\n",
            ", PUNCT ,\n",
            "ومن PROPN ومن\n",
            "المهم PROPN المهم\n",
            "فهم PROPN فهم\n",
            "كيف PROPN كيف\n",
            "كانت PROPN كانت\n",
            "هذه PROPN هذه\n",
            "الفكرة PROPN الفكرة\n",
            "الجديدة PROPN الجديدة\n",
            "مهمة PROPN مهمة\n",
            ", PUNCT ,\n",
            "فقد PROPN فقد\n",
            "كانت PROPN كانت\n",
            "خطوة PROPN خطوة\n",
            "نورية PROPN نورية\n",
            "بعيدا PROPN بعيدا\n",
            "عن PROPN عن\n",
            "المفهوم PROPN المفهوم\n",
            "اليوناني PROPN اليوناني\n",
            "للرياضيات PROPN للرياضيات\n",
            "التي PROPN التي\n",
            "هي PROPN هي\n",
            "في PROPN في\n",
            "جوهرها PROPN جوهرها\n",
            "هندسة PROPN هندسة\n",
            ", PUNCT ,\n",
            "الجبر PROPN الجبر\n",
            "کان PROPN کان\n",
            "نظرية PROPN نظرية\n",
            "موحدة PROPN موحدة\n",
            "تتيح PROPN تتيح\n",
            "الأعداد PROPN الأعداد\n",
            "الكسرية PROPN الكسرية\n",
            "والأعداد PROPN والأعداد\n",
            "اللا PROPN اللا\n",
            "كسرية PROPN كسرية\n",
            ", PUNCT ,\n",
            "والمقادير PROPN والمقادير\n",
            "الهندسية PROPN الهندسية\n",
            "وغيرها PROPN وغيرها\n",
            ", PUNCT ,\n",
            "أن PROPN أن\n",
            "تتعامل PROPN تتعامل\n",
            "على PROPN على\n",
            "أنها PROPN أنها\n",
            "أجسام PROPN أجسام\n",
            "جبرية PROPN جبرية\n",
            ", PUNCT ,\n",
            "وأعطت PROPN وأعطت\n",
            "الرياضيات PROPN الرياضيات\n",
            "ككل PROPN ككل\n",
            "مسارا PROPN مسارا\n",
            "جديدا PROPN جديدا\n",
            "للتطور PROPN للتطور\n",
            "بمفهوم PROPN بمفهوم\n",
            "أوسع PROPN أوسع\n",
            "بكثير PROPN بكثير\n",
            "من PROPN من\n",
            "الذي PROPN الذي\n",
            "كان PROPN كان\n",
            "موجودا PROPN موجودا\n",
            "من PROPN من\n",
            "قبل PROPN قبل\n",
            ", PUNCT ,\n",
            "وقم PROPN وقم\n",
            "وسيلة PROPN وسيلة\n",
            "للتنمية PROPN للتنمية\n",
            "في PROPN في\n",
            "هذا PROPN هذا\n",
            "الموضوع PROPN الموضوع\n",
            "مستقبلا PROPN مستقبلا\n",
            ". PUNCT .\n",
            "وجانب PROPN وجانب\n",
            "آخر PROPN آخر\n",
            "مهم PROPN مهم\n",
            "لإدخال PROPN لإدخال\n",
            "أفكار PROPN أفكار\n",
            "الجبر PROPN الجبر\n",
            "وهو PROPN وهو\n",
            "أنه PROPN أنه\n",
            "سمح PROPN سمح\n",
            "بتطبيق PROPN بتطبيق\n",
            "الرياضيات PROPN الرياضيات\n",
            "على PROPN على\n",
            "نفسها PROPN نفسها\n",
            "بطريقة PROPN بطريقة\n",
            "لم PROPN لم\n",
            "تحدث PROPN تحدث\n",
            "من PROPN من\n",
            "قبل PROPN قبل\n"
          ]
        }
      ]
    },
    {
      "cell_type": "markdown",
      "metadata": {
        "id": "vMkyyoRBBeh6"
      },
      "source": [
        "### Chunking"
      ]
    },
    {
      "cell_type": "code",
      "metadata": {
        "colab": {
          "base_uri": "https://localhost:8080/"
        },
        "id": "YwQUcBOzBeh8",
        "outputId": "9bd30df3-878f-497f-c02e-17f0999c8170"
      },
      "source": [
        "for chunk in doc_en.noun_chunks:\n",
        "    print(chunk.label_, chunk)"
      ],
      "execution_count": null,
      "outputs": [
        {
          "output_type": "stream",
          "name": "stdout",
          "text": [
            "NP the most significant advances\n",
            "NP Arabic mathematics\n",
            "NP this time\n",
            "NP the work\n",
            "NP al-Khwarizmi\n",
            "NP namely the beginnings\n",
            "NP algebra\n",
            "NP It\n",
            "NP this new idea\n",
            "NP It\n",
            "NP a revolutionary move\n",
            "NP the Greek concept\n",
            "NP mathematics\n",
            "NP essentially geometry\n",
            "NP Algebra\n",
            "NP a unifying theory\n",
            "NP allowedrational numbers\n",
            "NP irrational numbers\n",
            "NP geometrical magnitudes\n",
            "NP algebraic objects\n",
            "NP It\n",
            "NP mathematics\n",
            "NP a whole new development path\n",
            "NP concept\n",
            "NP a vehicle\n",
            "NP future development\n",
            "NP the subject\n",
            "NP Another important aspect\n",
            "NP the introduction\n",
            "NP algebraic ideas\n",
            "NP it\n",
            "NP mathematics\n"
          ]
        }
      ]
    },
    {
      "cell_type": "code",
      "metadata": {
        "colab": {
          "base_uri": "https://localhost:8080/"
        },
        "id": "dhxdV_36Beh-",
        "outputId": "d63621bf-6d1b-413f-9133-4ca09efd554c"
      },
      "source": [
        "for token in doc_en:\n",
        "    if token.pos_ == \"VERB\":\n",
        "        print(token.tag_, token.lemma_)"
      ],
      "execution_count": null,
      "outputs": [
        {
          "output_type": "stream",
          "name": "stdout",
          "text": [
            "VBN make\n",
            "VBD begin\n",
            "VB understand\n",
            "VBN treat\n",
            "VBD give\n",
            "VBN exist\n",
            "VBD provide\n",
            "VBD allow\n",
            "VBN apply\n",
            "VB itselfin\n",
            "VBN happen\n"
          ]
        }
      ]
    },
    {
      "cell_type": "markdown",
      "metadata": {
        "id": "vcaXpulWBeh_"
      },
      "source": [
        "### Named entities "
      ]
    },
    {
      "cell_type": "code",
      "metadata": {
        "colab": {
          "base_uri": "https://localhost:8080/"
        },
        "id": "Q4h5lbbmBeiB",
        "outputId": "cfedff03-269e-4b23-a5f1-e8f7d9af563b"
      },
      "source": [
        "for ent in doc_en.ents:\n",
        "    print(ent.text, ent.start_char, ent.end_char, ent.label_)"
      ],
      "execution_count": null,
      "outputs": [
        {
          "output_type": "stream",
          "name": "stdout",
          "text": [
            "Arabic 53 59 NORP\n",
            "al-Khwarizmi 108 120 PERSON\n",
            "Greek 268 273 NORP\n",
            "Algebra 329 336 ORG\n"
          ]
        }
      ]
    },
    {
      "cell_type": "markdown",
      "metadata": {
        "id": "J3p9VQ5tBeiE"
      },
      "source": [
        "### Dependencies"
      ]
    },
    {
      "cell_type": "code",
      "metadata": {
        "colab": {
          "base_uri": "https://localhost:8080/",
          "height": 476
        },
        "id": "CRT-OzsOBeiG",
        "outputId": "68e4208e-d7b2-4ff3-f4ab-b6428ade2642"
      },
      "source": [
        "%load_ext watermark"
      ],
      "execution_count": null,
      "outputs": [
        {
          "output_type": "error",
          "ename": "ModuleNotFoundError",
          "evalue": "ignored",
          "traceback": [
            "\u001b[0;31m---------------------------------------------------------------------------\u001b[0m",
            "\u001b[0;31mModuleNotFoundError\u001b[0m                       Traceback (most recent call last)",
            "\u001b[0;32m<ipython-input-17-24f70a0ee0e5>\u001b[0m in \u001b[0;36m<module>\u001b[0;34m()\u001b[0m\n\u001b[0;32m----> 1\u001b[0;31m \u001b[0mget_ipython\u001b[0m\u001b[0;34m(\u001b[0m\u001b[0;34m)\u001b[0m\u001b[0;34m.\u001b[0m\u001b[0mmagic\u001b[0m\u001b[0;34m(\u001b[0m\u001b[0;34m'load_ext watermark'\u001b[0m\u001b[0;34m)\u001b[0m\u001b[0;34m\u001b[0m\u001b[0;34m\u001b[0m\u001b[0m\n\u001b[0m",
            "\u001b[0;32m/usr/local/lib/python3.7/dist-packages/IPython/core/interactiveshell.py\u001b[0m in \u001b[0;36mmagic\u001b[0;34m(self, arg_s)\u001b[0m\n\u001b[1;32m   2158\u001b[0m         \u001b[0mmagic_name\u001b[0m\u001b[0;34m,\u001b[0m \u001b[0m_\u001b[0m\u001b[0;34m,\u001b[0m \u001b[0mmagic_arg_s\u001b[0m \u001b[0;34m=\u001b[0m \u001b[0marg_s\u001b[0m\u001b[0;34m.\u001b[0m\u001b[0mpartition\u001b[0m\u001b[0;34m(\u001b[0m\u001b[0;34m' '\u001b[0m\u001b[0;34m)\u001b[0m\u001b[0;34m\u001b[0m\u001b[0;34m\u001b[0m\u001b[0m\n\u001b[1;32m   2159\u001b[0m         \u001b[0mmagic_name\u001b[0m \u001b[0;34m=\u001b[0m \u001b[0mmagic_name\u001b[0m\u001b[0;34m.\u001b[0m\u001b[0mlstrip\u001b[0m\u001b[0;34m(\u001b[0m\u001b[0mprefilter\u001b[0m\u001b[0;34m.\u001b[0m\u001b[0mESC_MAGIC\u001b[0m\u001b[0;34m)\u001b[0m\u001b[0;34m\u001b[0m\u001b[0;34m\u001b[0m\u001b[0m\n\u001b[0;32m-> 2160\u001b[0;31m         \u001b[0;32mreturn\u001b[0m \u001b[0mself\u001b[0m\u001b[0;34m.\u001b[0m\u001b[0mrun_line_magic\u001b[0m\u001b[0;34m(\u001b[0m\u001b[0mmagic_name\u001b[0m\u001b[0;34m,\u001b[0m \u001b[0mmagic_arg_s\u001b[0m\u001b[0;34m)\u001b[0m\u001b[0;34m\u001b[0m\u001b[0;34m\u001b[0m\u001b[0m\n\u001b[0m\u001b[1;32m   2161\u001b[0m \u001b[0;34m\u001b[0m\u001b[0m\n\u001b[1;32m   2162\u001b[0m     \u001b[0;31m#-------------------------------------------------------------------------\u001b[0m\u001b[0;34m\u001b[0m\u001b[0;34m\u001b[0m\u001b[0;34m\u001b[0m\u001b[0m\n",
            "\u001b[0;32m/usr/local/lib/python3.7/dist-packages/IPython/core/interactiveshell.py\u001b[0m in \u001b[0;36mrun_line_magic\u001b[0;34m(self, magic_name, line)\u001b[0m\n\u001b[1;32m   2079\u001b[0m                 \u001b[0mkwargs\u001b[0m\u001b[0;34m[\u001b[0m\u001b[0;34m'local_ns'\u001b[0m\u001b[0;34m]\u001b[0m \u001b[0;34m=\u001b[0m \u001b[0msys\u001b[0m\u001b[0;34m.\u001b[0m\u001b[0m_getframe\u001b[0m\u001b[0;34m(\u001b[0m\u001b[0mstack_depth\u001b[0m\u001b[0;34m)\u001b[0m\u001b[0;34m.\u001b[0m\u001b[0mf_locals\u001b[0m\u001b[0;34m\u001b[0m\u001b[0;34m\u001b[0m\u001b[0m\n\u001b[1;32m   2080\u001b[0m             \u001b[0;32mwith\u001b[0m \u001b[0mself\u001b[0m\u001b[0;34m.\u001b[0m\u001b[0mbuiltin_trap\u001b[0m\u001b[0;34m:\u001b[0m\u001b[0;34m\u001b[0m\u001b[0;34m\u001b[0m\u001b[0m\n\u001b[0;32m-> 2081\u001b[0;31m                 \u001b[0mresult\u001b[0m \u001b[0;34m=\u001b[0m \u001b[0mfn\u001b[0m\u001b[0;34m(\u001b[0m\u001b[0;34m*\u001b[0m\u001b[0margs\u001b[0m\u001b[0;34m,\u001b[0m\u001b[0;34m**\u001b[0m\u001b[0mkwargs\u001b[0m\u001b[0;34m)\u001b[0m\u001b[0;34m\u001b[0m\u001b[0;34m\u001b[0m\u001b[0m\n\u001b[0m\u001b[1;32m   2082\u001b[0m             \u001b[0;32mreturn\u001b[0m \u001b[0mresult\u001b[0m\u001b[0;34m\u001b[0m\u001b[0;34m\u001b[0m\u001b[0m\n\u001b[1;32m   2083\u001b[0m \u001b[0;34m\u001b[0m\u001b[0m\n",
            "\u001b[0;32m<decorator-gen-56>\u001b[0m in \u001b[0;36mload_ext\u001b[0;34m(self, module_str)\u001b[0m\n",
            "\u001b[0;32m/usr/local/lib/python3.7/dist-packages/IPython/core/magic.py\u001b[0m in \u001b[0;36m<lambda>\u001b[0;34m(f, *a, **k)\u001b[0m\n\u001b[1;32m    186\u001b[0m     \u001b[0;31m# but it's overkill for just that one bit of state.\u001b[0m\u001b[0;34m\u001b[0m\u001b[0;34m\u001b[0m\u001b[0;34m\u001b[0m\u001b[0m\n\u001b[1;32m    187\u001b[0m     \u001b[0;32mdef\u001b[0m \u001b[0mmagic_deco\u001b[0m\u001b[0;34m(\u001b[0m\u001b[0marg\u001b[0m\u001b[0;34m)\u001b[0m\u001b[0;34m:\u001b[0m\u001b[0;34m\u001b[0m\u001b[0;34m\u001b[0m\u001b[0m\n\u001b[0;32m--> 188\u001b[0;31m         \u001b[0mcall\u001b[0m \u001b[0;34m=\u001b[0m \u001b[0;32mlambda\u001b[0m \u001b[0mf\u001b[0m\u001b[0;34m,\u001b[0m \u001b[0;34m*\u001b[0m\u001b[0ma\u001b[0m\u001b[0;34m,\u001b[0m \u001b[0;34m**\u001b[0m\u001b[0mk\u001b[0m\u001b[0;34m:\u001b[0m \u001b[0mf\u001b[0m\u001b[0;34m(\u001b[0m\u001b[0;34m*\u001b[0m\u001b[0ma\u001b[0m\u001b[0;34m,\u001b[0m \u001b[0;34m**\u001b[0m\u001b[0mk\u001b[0m\u001b[0;34m)\u001b[0m\u001b[0;34m\u001b[0m\u001b[0;34m\u001b[0m\u001b[0m\n\u001b[0m\u001b[1;32m    189\u001b[0m \u001b[0;34m\u001b[0m\u001b[0m\n\u001b[1;32m    190\u001b[0m         \u001b[0;32mif\u001b[0m \u001b[0mcallable\u001b[0m\u001b[0;34m(\u001b[0m\u001b[0marg\u001b[0m\u001b[0;34m)\u001b[0m\u001b[0;34m:\u001b[0m\u001b[0;34m\u001b[0m\u001b[0;34m\u001b[0m\u001b[0m\n",
            "\u001b[0;32m/usr/local/lib/python3.7/dist-packages/IPython/core/magics/extension.py\u001b[0m in \u001b[0;36mload_ext\u001b[0;34m(self, module_str)\u001b[0m\n\u001b[1;32m     35\u001b[0m         \u001b[0;32mif\u001b[0m \u001b[0;32mnot\u001b[0m \u001b[0mmodule_str\u001b[0m\u001b[0;34m:\u001b[0m\u001b[0;34m\u001b[0m\u001b[0;34m\u001b[0m\u001b[0m\n\u001b[1;32m     36\u001b[0m             \u001b[0;32mraise\u001b[0m \u001b[0mUsageError\u001b[0m\u001b[0;34m(\u001b[0m\u001b[0;34m'Missing module name.'\u001b[0m\u001b[0;34m)\u001b[0m\u001b[0;34m\u001b[0m\u001b[0;34m\u001b[0m\u001b[0m\n\u001b[0;32m---> 37\u001b[0;31m         \u001b[0mres\u001b[0m \u001b[0;34m=\u001b[0m \u001b[0mself\u001b[0m\u001b[0;34m.\u001b[0m\u001b[0mshell\u001b[0m\u001b[0;34m.\u001b[0m\u001b[0mextension_manager\u001b[0m\u001b[0;34m.\u001b[0m\u001b[0mload_extension\u001b[0m\u001b[0;34m(\u001b[0m\u001b[0mmodule_str\u001b[0m\u001b[0;34m)\u001b[0m\u001b[0;34m\u001b[0m\u001b[0;34m\u001b[0m\u001b[0m\n\u001b[0m\u001b[1;32m     38\u001b[0m \u001b[0;34m\u001b[0m\u001b[0m\n\u001b[1;32m     39\u001b[0m         \u001b[0;32mif\u001b[0m \u001b[0mres\u001b[0m \u001b[0;34m==\u001b[0m \u001b[0;34m'already loaded'\u001b[0m\u001b[0;34m:\u001b[0m\u001b[0;34m\u001b[0m\u001b[0;34m\u001b[0m\u001b[0m\n",
            "\u001b[0;32m/usr/local/lib/python3.7/dist-packages/IPython/core/extensions.py\u001b[0m in \u001b[0;36mload_extension\u001b[0;34m(self, module_str)\u001b[0m\n\u001b[1;32m     81\u001b[0m             \u001b[0;32mif\u001b[0m \u001b[0mmodule_str\u001b[0m \u001b[0;32mnot\u001b[0m \u001b[0;32min\u001b[0m \u001b[0msys\u001b[0m\u001b[0;34m.\u001b[0m\u001b[0mmodules\u001b[0m\u001b[0;34m:\u001b[0m\u001b[0;34m\u001b[0m\u001b[0;34m\u001b[0m\u001b[0m\n\u001b[1;32m     82\u001b[0m                 \u001b[0;32mwith\u001b[0m \u001b[0mprepended_to_syspath\u001b[0m\u001b[0;34m(\u001b[0m\u001b[0mself\u001b[0m\u001b[0;34m.\u001b[0m\u001b[0mipython_extension_dir\u001b[0m\u001b[0;34m)\u001b[0m\u001b[0;34m:\u001b[0m\u001b[0;34m\u001b[0m\u001b[0;34m\u001b[0m\u001b[0m\n\u001b[0;32m---> 83\u001b[0;31m                     \u001b[0m__import__\u001b[0m\u001b[0;34m(\u001b[0m\u001b[0mmodule_str\u001b[0m\u001b[0;34m)\u001b[0m\u001b[0;34m\u001b[0m\u001b[0;34m\u001b[0m\u001b[0m\n\u001b[0m\u001b[1;32m     84\u001b[0m             \u001b[0mmod\u001b[0m \u001b[0;34m=\u001b[0m \u001b[0msys\u001b[0m\u001b[0;34m.\u001b[0m\u001b[0mmodules\u001b[0m\u001b[0;34m[\u001b[0m\u001b[0mmodule_str\u001b[0m\u001b[0;34m]\u001b[0m\u001b[0;34m\u001b[0m\u001b[0;34m\u001b[0m\u001b[0m\n\u001b[1;32m     85\u001b[0m             \u001b[0;32mif\u001b[0m \u001b[0mself\u001b[0m\u001b[0;34m.\u001b[0m\u001b[0m_call_load_ipython_extension\u001b[0m\u001b[0;34m(\u001b[0m\u001b[0mmod\u001b[0m\u001b[0;34m)\u001b[0m\u001b[0;34m:\u001b[0m\u001b[0;34m\u001b[0m\u001b[0;34m\u001b[0m\u001b[0m\n",
            "\u001b[0;31mModuleNotFoundError\u001b[0m: No module named 'watermark'",
            "",
            "\u001b[0;31m---------------------------------------------------------------------------\u001b[0;32m\nNOTE: If your import is failing due to a missing package, you can\nmanually install dependencies using either !pip or !apt.\n\nTo view examples of installing some common dependencies, click the\n\"Open Examples\" button below.\n\u001b[0;31m---------------------------------------------------------------------------\u001b[0m\n"
          ],
          "errorDetails": {
            "actions": [
              {
                "action": "open_url",
                "actionText": "Open Examples",
                "url": "/notebooks/snippets/importing_libraries.ipynb"
              }
            ]
          }
        }
      ]
    },
    {
      "cell_type": "code",
      "metadata": {
        "colab": {
          "base_uri": "https://localhost:8080/"
        },
        "id": "D3_4YLn0BeiG",
        "outputId": "5d26fad9-0657-474d-81f4-0d8863894051"
      },
      "source": [
        "%watermark -p spacy"
      ],
      "execution_count": null,
      "outputs": [
        {
          "output_type": "stream",
          "name": "stderr",
          "text": [
            "UsageError: Line magic function `%watermark` not found.\n"
          ]
        }
      ]
    },
    {
      "cell_type": "code",
      "metadata": {
        "id": "OtGWJaMtBeiI"
      },
      "source": [
        ""
      ],
      "execution_count": null,
      "outputs": []
    }
  ]
}