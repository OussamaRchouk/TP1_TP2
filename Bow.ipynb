{
  "nbformat": 4,
  "nbformat_minor": 0,
  "metadata": {
    "kernelspec": {
      "display_name": "Python 3",
      "language": "python",
      "name": "python3"
    },
    "language_info": {
      "codemirror_mode": {
        "name": "ipython",
        "version": 3
      },
      "file_extension": ".py",
      "mimetype": "text/x-python",
      "name": "python",
      "nbconvert_exporter": "python",
      "pygments_lexer": "ipython3",
      "version": "3.8.5"
    },
    "colab": {
      "name": "Bow.ipynb",
      "provenance": [],
      "include_colab_link": true
    }
  },
  "cells": [
    {
      "cell_type": "markdown",
      "metadata": {
        "id": "view-in-github",
        "colab_type": "text"
      },
      "source": [
        "<a href=\"https://colab.research.google.com/github/OussamaRchouk/TP1_TP2/blob/main/Bow.ipynb\" target=\"_parent\"><img src=\"https://colab.research.google.com/assets/colab-badge.svg\" alt=\"Open In Colab\"/></a>"
      ]
    },
    {
      "cell_type": "markdown",
      "metadata": {
        "id": "FeWD9ZOBOdqR"
      },
      "source": [
        "## Implementing Bag-of-Words Model"
      ]
    },
    {
      "cell_type": "markdown",
      "metadata": {
        "id": "5_FUpJm7OdqT"
      },
      "source": [
        "### Load Libraries"
      ]
    },
    {
      "cell_type": "code",
      "metadata": {
        "id": "v458IYmEOdqa"
      },
      "source": [
        "import nltk\n",
        "from nltk.corpus import stopwords\n",
        "from nltk.stem import WordNetLemmatizer\n",
        "import re\n",
        "\n",
        "from sklearn.feature_extraction.text import CountVectorizer"
      ],
      "execution_count": null,
      "outputs": []
    },
    {
      "cell_type": "markdown",
      "metadata": {
        "id": "tNHSvnIlOdql"
      },
      "source": [
        "### Get Data"
      ]
    },
    {
      "cell_type": "code",
      "metadata": {
        "id": "TFAchbzROdqu"
      },
      "source": [
        "english_text = \"\"\"Perhaps one of the most significant advances in  made by Arabic mathematics began at this time with the work of al-Khwarizmi, namely the beginnings of algebra. It is important to understand just how significant this new idea was. It was a revolutionary move away from the Greek concept of mathematics which was essentially geometry. Algebra was a unifying theory which allowedrational numbers,irrational numbers, geometrical magnitudes, etc., to all be treated as \\\"algebraic objects\\\". It gave mathematics a whole new development path so much broader in concept to that which had existed before, and provided a vehicle for future development of the subject. Another important aspect of the introduction of algebraic ideas was that it allowed mathematics to be applied to itselfin a way which had not happened before.\"\"\""
      ],
      "execution_count": null,
      "outputs": []
    },
    {
      "cell_type": "code",
      "metadata": {
        "id": "jJOOB2u-OdrA",
        "outputId": "0034c135-a033-40fe-ed44-4aa0fd49f8cb"
      },
      "source": [
        "english_text"
      ],
      "execution_count": null,
      "outputs": [
        {
          "data": {
            "text/plain": [
              "'Perhaps one of the most significant advances in  made by Arabic mathematics began at this time with the work of al-Khwarizmi, namely the beginnings of algebra. It is important to understand just how significant this new idea was. It was a revolutionary move away from the Greek concept of mathematics which was essentially geometry. Algebra was a unifying theory which allowedrational numbers,irrational numbers, geometrical magnitudes, etc., to all be treated as \"algebraic objects\". It gave mathematics a whole new development path so much broader in concept to that which had existed before, and provided a vehicle for future development of the subject. Another important aspect of the introduction of algebraic ideas was that it allowed mathematics to be applied to itselfin a way which had not happened before.'"
            ]
          },
          "execution_count": 174,
          "metadata": {},
          "output_type": "execute_result"
        }
      ]
    },
    {
      "cell_type": "code",
      "metadata": {
        "id": "0N5Ath_nOdrI"
      },
      "source": [
        "arabic_text =u\"\"\"ربما كانت أحد أهم التطورات التي قامت بها الرياضيات العربية التي بدأت في هذا الوقت بعمل الخوارزمي وهي بدايات الجبر, ومن المهم فهم كيف كانت هذه الفكرة الجديدة مهمة, فقد كانت خطوة نورية بعيدا عن المفهوم اليوناني للرياضيات التي هي في جوهرها هندسة, الجبر کان نظرية موحدة تتيح الأعداد الكسرية والأعداد اللا كسرية, والمقادير الهندسية وغيرها, أن تتعامل على أنها أجسام جبرية, وأعطت الرياضيات ككل مسارا جديدا للتطور بمفهوم أوسع بكثير من الذي كان موجودا من قبل, وقم وسيلة للتنمية في هذا الموضوع مستقبلا. وجانب آخر مهم لإدخال أفكار الجبر وهو أنه سمح بتطبيق الرياضيات على نفسها بطريقة لم تحدث من قبل\"\"\""
      ],
      "execution_count": null,
      "outputs": []
    },
    {
      "cell_type": "code",
      "metadata": {
        "id": "cQ4R8oZDOdrN",
        "outputId": "d8c53dac-2fe4-40db-a921-11e2e511ebc7"
      },
      "source": [
        "arabic_text"
      ],
      "execution_count": null,
      "outputs": [
        {
          "data": {
            "text/plain": [
              "'ربما كانت أحد أهم التطورات التي قامت بها الرياضيات العربية التي بدأت في هذا الوقت بعمل الخوارزمي وهي بدايات الجبر, ومن المهم فهم كيف كانت هذه الفكرة الجديدة مهمة, فقد كانت خطوة نورية بعيدا عن المفهوم اليوناني للرياضيات التي هي في جوهرها هندسة, الجبر کان نظرية موحدة تتيح الأعداد الكسرية والأعداد اللا كسرية, والمقادير الهندسية وغيرها, أن تتعامل على أنها أجسام جبرية, وأعطت الرياضيات ككل مسارا جديدا للتطور بمفهوم أوسع بكثير من الذي كان موجودا من قبل, وقم وسيلة للتنمية في هذا الموضوع مستقبلا. وجانب آخر مهم لإدخال أفكار الجبر وهو أنه سمح بتطبيق الرياضيات على نفسها بطريقة لم تحدث من قبل'"
            ]
          },
          "execution_count": 176,
          "metadata": {},
          "output_type": "execute_result"
        }
      ]
    },
    {
      "cell_type": "markdown",
      "metadata": {
        "id": "6tO1DeYrOdrT"
      },
      "source": [
        "### Data Cleaning"
      ]
    },
    {
      "cell_type": "markdown",
      "metadata": {
        "id": "r-LYmZfkOdrY"
      },
      "source": [
        "#### Text to sentences"
      ]
    },
    {
      "cell_type": "code",
      "metadata": {
        "id": "SMonrCLUOdra"
      },
      "source": [
        "english_sentences = nltk.sent_tokenize(english_text)\n",
        "arabic_sentences = nltk.sent_tokenize(arabic_text)"
      ],
      "execution_count": null,
      "outputs": []
    },
    {
      "cell_type": "code",
      "metadata": {
        "id": "kRlpe5G2Odrc",
        "outputId": "d0b60d4a-fe32-4626-d465-7a6e39819440"
      },
      "source": [
        "print(len(english_sentences), 'English paragraphs')\n",
        "print(len(arabic_sentences), 'Arabic paragraphs')"
      ],
      "execution_count": null,
      "outputs": [
        {
          "name": "stdout",
          "output_type": "stream",
          "text": [
            "6 English paragraphs\n",
            "2 Arabic paragraphs\n"
          ]
        }
      ]
    },
    {
      "cell_type": "code",
      "metadata": {
        "id": "gKRXZtVHOdrg",
        "outputId": "9d453d32-7309-4c89-ccf4-a7c83cc555ab"
      },
      "source": [
        "english_sentences"
      ],
      "execution_count": null,
      "outputs": [
        {
          "data": {
            "text/plain": [
              "['Perhaps one of the most significant advances in  made by Arabic mathematics began at this time with the work of al-Khwarizmi, namely the beginnings of algebra.',\n",
              " 'It is important to understand just how significant this new idea was.',\n",
              " 'It was a revolutionary move away from the Greek concept of mathematics which was essentially geometry.',\n",
              " 'Algebra was a unifying theory which allowedrational numbers,irrational numbers, geometrical magnitudes, etc., to all be treated as \"algebraic objects\".',\n",
              " 'It gave mathematics a whole new development path so much broader in concept to that which had existed before, and provided a vehicle for future development of the subject.',\n",
              " 'Another important aspect of the introduction of algebraic ideas was that it allowed mathematics to be applied to itselfin a way which had not happened before.']"
            ]
          },
          "execution_count": 179,
          "metadata": {},
          "output_type": "execute_result"
        }
      ]
    },
    {
      "cell_type": "markdown",
      "metadata": {
        "id": "UK_iClVUOdri"
      },
      "source": [
        "#### Clean English Text"
      ]
    },
    {
      "cell_type": "code",
      "metadata": {
        "id": "A4x2wOdSOdrj"
      },
      "source": [
        "WordNet = WordNetLemmatizer()\n",
        "english_curpus = []\n",
        "\n",
        "for i in range(len(english_sentences)):\n",
        "    # work with only text\n",
        "    cleaning_text = re.sub('[^a-zA-Z]', ' ', english_sentences[i])\n",
        "    # text to lower case\n",
        "    cleaning_text = cleaning_text.lower()\n",
        "    # tokenize each sentence\n",
        "    cleaning_text = cleaning_text.split()\n",
        "    # lematize each word\n",
        "    sentence_lem = [WordNet.lemmatize(word) for word in cleaning_text if not word in set(stopwords.words(\"english\"))]\n",
        "    sentence = ' '.join(sentence_lem)\n",
        "    english_curpus.append(sentence)"
      ],
      "execution_count": null,
      "outputs": []
    },
    {
      "cell_type": "code",
      "metadata": {
        "id": "3gBQFq-KOdrn",
        "outputId": "08912414-06d0-4bbb-e5b2-77e7f239a795"
      },
      "source": [
        "english_curpus"
      ],
      "execution_count": null,
      "outputs": [
        {
          "data": {
            "text/plain": [
              "['perhaps one significant advance made arabic mathematics began time work al khwarizmi namely beginning algebra',\n",
              " 'important understand significant new idea',\n",
              " 'revolutionary move away greek concept mathematics essentially geometry',\n",
              " 'algebra unifying theory allowedrational number irrational number geometrical magnitude etc treated algebraic object',\n",
              " 'gave mathematics whole new development path much broader concept existed provided vehicle future development subject',\n",
              " 'another important aspect introduction algebraic idea allowed mathematics applied itselfin way happened']"
            ]
          },
          "execution_count": 181,
          "metadata": {},
          "output_type": "execute_result"
        }
      ]
    },
    {
      "cell_type": "markdown",
      "metadata": {
        "id": "NLAycZuUOdrq"
      },
      "source": [
        "#### Clean Arabic Text"
      ]
    },
    {
      "cell_type": "code",
      "metadata": {
        "id": "5-OGSBFyOdrr",
        "outputId": "e054cec7-dde1-487a-ab6d-4e9dab1e79b5"
      },
      "source": [
        "arabic_sentences"
      ],
      "execution_count": null,
      "outputs": [
        {
          "data": {
            "text/plain": [
              "['ربما كانت أحد أهم التطورات التي قامت بها الرياضيات العربية التي بدأت في هذا الوقت بعمل الخوارزمي وهي بدايات الجبر, ومن المهم فهم كيف كانت هذه الفكرة الجديدة مهمة, فقد كانت خطوة نورية بعيدا عن المفهوم اليوناني للرياضيات التي هي في جوهرها هندسة, الجبر کان نظرية موحدة تتيح الأعداد الكسرية والأعداد اللا كسرية, والمقادير الهندسية وغيرها, أن تتعامل على أنها أجسام جبرية, وأعطت الرياضيات ككل مسارا جديدا للتطور بمفهوم أوسع بكثير من الذي كان موجودا من قبل, وقم وسيلة للتنمية في هذا الموضوع مستقبلا.',\n",
              " 'وجانب آخر مهم لإدخال أفكار الجبر وهو أنه سمح بتطبيق الرياضيات على نفسها بطريقة لم تحدث من قبل']"
            ]
          },
          "execution_count": 182,
          "metadata": {},
          "output_type": "execute_result"
        }
      ]
    },
    {
      "cell_type": "code",
      "metadata": {
        "id": "nn-z6iezOdrt"
      },
      "source": [
        "WordNet = WordNetLemmatizer()\n",
        "arabic_corpus = []\n",
        "\n",
        "for i in range(len(arabic_sentences)):\n",
        "    # tokenize each sentence\n",
        "    cleaning_text = arabic_sentences[i].split()\n",
        "\n",
        "    # lematize each word\n",
        "    sentence_lem = [WordNet.lemmatize(word) for word in cleaning_text if not word in set(stopwords.words(\"arabic\"))]\n",
        "    sentence = ' '.join(sentence_lem)\n",
        "    arabic_corpus.append(sentence)\n"
      ],
      "execution_count": null,
      "outputs": []
    },
    {
      "cell_type": "code",
      "metadata": {
        "id": "7DB0PFaJOdrw",
        "outputId": "416a221b-b650-4198-c42f-40e9d885ac3e"
      },
      "source": [
        "stopwords.words(\"arabic\")"
      ],
      "execution_count": null,
      "outputs": [
        {
          "data": {
            "text/plain": [
              "['إذ',\n",
              " 'إذا',\n",
              " 'إذما',\n",
              " 'إذن',\n",
              " 'أف',\n",
              " 'أقل',\n",
              " 'أكثر',\n",
              " 'ألا',\n",
              " 'إلا',\n",
              " 'التي',\n",
              " 'الذي',\n",
              " 'الذين',\n",
              " 'اللاتي',\n",
              " 'اللائي',\n",
              " 'اللتان',\n",
              " 'اللتيا',\n",
              " 'اللتين',\n",
              " 'اللذان',\n",
              " 'اللذين',\n",
              " 'اللواتي',\n",
              " 'إلى',\n",
              " 'إليك',\n",
              " 'إليكم',\n",
              " 'إليكما',\n",
              " 'إليكن',\n",
              " 'أم',\n",
              " 'أما',\n",
              " 'أما',\n",
              " 'إما',\n",
              " 'أن',\n",
              " 'إن',\n",
              " 'إنا',\n",
              " 'أنا',\n",
              " 'أنت',\n",
              " 'أنتم',\n",
              " 'أنتما',\n",
              " 'أنتن',\n",
              " 'إنما',\n",
              " 'إنه',\n",
              " 'أنى',\n",
              " 'أنى',\n",
              " 'آه',\n",
              " 'آها',\n",
              " 'أو',\n",
              " 'أولاء',\n",
              " 'أولئك',\n",
              " 'أوه',\n",
              " 'آي',\n",
              " 'أي',\n",
              " 'أيها',\n",
              " 'إي',\n",
              " 'أين',\n",
              " 'أين',\n",
              " 'أينما',\n",
              " 'إيه',\n",
              " 'بخ',\n",
              " 'بس',\n",
              " 'بعد',\n",
              " 'بعض',\n",
              " 'بك',\n",
              " 'بكم',\n",
              " 'بكم',\n",
              " 'بكما',\n",
              " 'بكن',\n",
              " 'بل',\n",
              " 'بلى',\n",
              " 'بما',\n",
              " 'بماذا',\n",
              " 'بمن',\n",
              " 'بنا',\n",
              " 'به',\n",
              " 'بها',\n",
              " 'بهم',\n",
              " 'بهما',\n",
              " 'بهن',\n",
              " 'بي',\n",
              " 'بين',\n",
              " 'بيد',\n",
              " 'تلك',\n",
              " 'تلكم',\n",
              " 'تلكما',\n",
              " 'ته',\n",
              " 'تي',\n",
              " 'تين',\n",
              " 'تينك',\n",
              " 'ثم',\n",
              " 'ثمة',\n",
              " 'حاشا',\n",
              " 'حبذا',\n",
              " 'حتى',\n",
              " 'حيث',\n",
              " 'حيثما',\n",
              " 'حين',\n",
              " 'خلا',\n",
              " 'دون',\n",
              " 'ذا',\n",
              " 'ذات',\n",
              " 'ذاك',\n",
              " 'ذان',\n",
              " 'ذانك',\n",
              " 'ذلك',\n",
              " 'ذلكم',\n",
              " 'ذلكما',\n",
              " 'ذلكن',\n",
              " 'ذه',\n",
              " 'ذو',\n",
              " 'ذوا',\n",
              " 'ذواتا',\n",
              " 'ذواتي',\n",
              " 'ذي',\n",
              " 'ذين',\n",
              " 'ذينك',\n",
              " 'ريث',\n",
              " 'سوف',\n",
              " 'سوى',\n",
              " 'شتان',\n",
              " 'عدا',\n",
              " 'عسى',\n",
              " 'عل',\n",
              " 'على',\n",
              " 'عليك',\n",
              " 'عليه',\n",
              " 'عما',\n",
              " 'عن',\n",
              " 'عند',\n",
              " 'غير',\n",
              " 'فإذا',\n",
              " 'فإن',\n",
              " 'فلا',\n",
              " 'فمن',\n",
              " 'في',\n",
              " 'فيم',\n",
              " 'فيما',\n",
              " 'فيه',\n",
              " 'فيها',\n",
              " 'قد',\n",
              " 'كأن',\n",
              " 'كأنما',\n",
              " 'كأي',\n",
              " 'كأين',\n",
              " 'كذا',\n",
              " 'كذلك',\n",
              " 'كل',\n",
              " 'كلا',\n",
              " 'كلاهما',\n",
              " 'كلتا',\n",
              " 'كلما',\n",
              " 'كليكما',\n",
              " 'كليهما',\n",
              " 'كم',\n",
              " 'كم',\n",
              " 'كما',\n",
              " 'كي',\n",
              " 'كيت',\n",
              " 'كيف',\n",
              " 'كيفما',\n",
              " 'لا',\n",
              " 'لاسيما',\n",
              " 'لدى',\n",
              " 'لست',\n",
              " 'لستم',\n",
              " 'لستما',\n",
              " 'لستن',\n",
              " 'لسن',\n",
              " 'لسنا',\n",
              " 'لعل',\n",
              " 'لك',\n",
              " 'لكم',\n",
              " 'لكما',\n",
              " 'لكن',\n",
              " 'لكنما',\n",
              " 'لكي',\n",
              " 'لكيلا',\n",
              " 'لم',\n",
              " 'لما',\n",
              " 'لن',\n",
              " 'لنا',\n",
              " 'له',\n",
              " 'لها',\n",
              " 'لهم',\n",
              " 'لهما',\n",
              " 'لهن',\n",
              " 'لو',\n",
              " 'لولا',\n",
              " 'لوما',\n",
              " 'لي',\n",
              " 'لئن',\n",
              " 'ليت',\n",
              " 'ليس',\n",
              " 'ليسا',\n",
              " 'ليست',\n",
              " 'ليستا',\n",
              " 'ليسوا',\n",
              " 'ما',\n",
              " 'ماذا',\n",
              " 'متى',\n",
              " 'مذ',\n",
              " 'مع',\n",
              " 'مما',\n",
              " 'ممن',\n",
              " 'من',\n",
              " 'منه',\n",
              " 'منها',\n",
              " 'منذ',\n",
              " 'مه',\n",
              " 'مهما',\n",
              " 'نحن',\n",
              " 'نحو',\n",
              " 'نعم',\n",
              " 'ها',\n",
              " 'هاتان',\n",
              " 'هاته',\n",
              " 'هاتي',\n",
              " 'هاتين',\n",
              " 'هاك',\n",
              " 'هاهنا',\n",
              " 'هذا',\n",
              " 'هذان',\n",
              " 'هذه',\n",
              " 'هذي',\n",
              " 'هذين',\n",
              " 'هكذا',\n",
              " 'هل',\n",
              " 'هلا',\n",
              " 'هم',\n",
              " 'هما',\n",
              " 'هن',\n",
              " 'هنا',\n",
              " 'هناك',\n",
              " 'هنالك',\n",
              " 'هو',\n",
              " 'هؤلاء',\n",
              " 'هي',\n",
              " 'هيا',\n",
              " 'هيت',\n",
              " 'هيهات',\n",
              " 'والذي',\n",
              " 'والذين',\n",
              " 'وإذ',\n",
              " 'وإذا',\n",
              " 'وإن',\n",
              " 'ولا',\n",
              " 'ولكن',\n",
              " 'ولو',\n",
              " 'وما',\n",
              " 'ومن',\n",
              " 'وهو',\n",
              " 'يا']"
            ]
          },
          "execution_count": 206,
          "metadata": {},
          "output_type": "execute_result"
        }
      ]
    },
    {
      "cell_type": "code",
      "metadata": {
        "id": "_NFskD1DOdry",
        "outputId": "330607fb-f90b-4793-b4b8-b4d5e2a8d27f"
      },
      "source": [
        "arabic_corpus"
      ],
      "execution_count": null,
      "outputs": [
        {
          "data": {
            "text/plain": [
              "['ربما كانت أحد أهم التطورات قامت الرياضيات العربية بدأت الوقت بعمل الخوارزمي وهي بدايات الجبر, المهم فهم كانت الفكرة الجديدة مهمة, فقد كانت خطوة نورية بعيدا المفهوم اليوناني للرياضيات جوهرها هندسة, الجبر کان نظرية موحدة تتيح الأعداد الكسرية والأعداد اللا كسرية, والمقادير الهندسية وغيرها, تتعامل أنها أجسام جبرية, وأعطت الرياضيات ككل مسارا جديدا للتطور بمفهوم أوسع بكثير كان موجودا قبل, وقم وسيلة للتنمية الموضوع مستقبلا.',\n",
              " 'وجانب آخر مهم لإدخال أفكار الجبر أنه سمح بتطبيق الرياضيات نفسها بطريقة تحدث قبل']"
            ]
          },
          "execution_count": 214,
          "metadata": {},
          "output_type": "execute_result"
        }
      ]
    },
    {
      "cell_type": "markdown",
      "metadata": {
        "id": "jcBK6pctOdrz"
      },
      "source": [
        "### Bag-Of Words"
      ]
    },
    {
      "cell_type": "code",
      "metadata": {
        "id": "qxft0BkVOdr0",
        "outputId": "18ef5006-1fa5-4e31-9de7-6fa63aecc328"
      },
      "source": [
        "# English Text\n",
        "cv_english = CountVectorizer()\n",
        "x_english = cv_english.fit_transform(english_curpus).toarray()\n",
        "x_english.shape\n"
      ],
      "execution_count": null,
      "outputs": [
        {
          "data": {
            "text/plain": [
              "(6, 56)"
            ]
          },
          "execution_count": 200,
          "metadata": {},
          "output_type": "execute_result"
        }
      ]
    },
    {
      "cell_type": "code",
      "metadata": {
        "id": "rRP6J6l6Odr6",
        "outputId": "2625be20-91b7-490c-b190-40f785b65b60"
      },
      "source": [
        "cv_english.get_feature_names()"
      ],
      "execution_count": null,
      "outputs": [
        {
          "data": {
            "text/plain": [
              "['advance',\n",
              " 'al',\n",
              " 'algebra',\n",
              " 'algebraic',\n",
              " 'allowed',\n",
              " 'allowedrational',\n",
              " 'another',\n",
              " 'applied',\n",
              " 'arabic',\n",
              " 'aspect',\n",
              " 'away',\n",
              " 'began',\n",
              " 'beginning',\n",
              " 'broader',\n",
              " 'concept',\n",
              " 'development',\n",
              " 'essentially',\n",
              " 'etc',\n",
              " 'existed',\n",
              " 'future',\n",
              " 'gave',\n",
              " 'geometrical',\n",
              " 'geometry',\n",
              " 'greek',\n",
              " 'happened',\n",
              " 'idea',\n",
              " 'important',\n",
              " 'introduction',\n",
              " 'irrational',\n",
              " 'itselfin',\n",
              " 'khwarizmi',\n",
              " 'made',\n",
              " 'magnitude',\n",
              " 'mathematics',\n",
              " 'move',\n",
              " 'much',\n",
              " 'namely',\n",
              " 'new',\n",
              " 'number',\n",
              " 'object',\n",
              " 'one',\n",
              " 'path',\n",
              " 'perhaps',\n",
              " 'provided',\n",
              " 'revolutionary',\n",
              " 'significant',\n",
              " 'subject',\n",
              " 'theory',\n",
              " 'time',\n",
              " 'treated',\n",
              " 'understand',\n",
              " 'unifying',\n",
              " 'vehicle',\n",
              " 'way',\n",
              " 'whole',\n",
              " 'work']"
            ]
          },
          "execution_count": 210,
          "metadata": {},
          "output_type": "execute_result"
        }
      ]
    },
    {
      "cell_type": "code",
      "metadata": {
        "id": "Z-y6c7oROdr8",
        "outputId": "b1d6be2c-2b16-436f-876e-74dbb17bbccd"
      },
      "source": [
        "# Arabic Text\n",
        "cv_arabic = CountVectorizer(max_features=2000)\n",
        "x_arabic = cv_arabic.fit_transform(arabic_corpus).toarray()\n",
        "x_arabic.shape"
      ],
      "execution_count": null,
      "outputs": [
        {
          "data": {
            "text/plain": [
              "(2, 72)"
            ]
          },
          "execution_count": 219,
          "metadata": {},
          "output_type": "execute_result"
        }
      ]
    },
    {
      "cell_type": "code",
      "metadata": {
        "id": "sLvjd-97Odr_",
        "outputId": "0c527101-1c77-4408-ae2f-2273db2b6921"
      },
      "source": [
        "cv_arabic.get_feature_names()"
      ],
      "execution_count": null,
      "outputs": [
        {
          "data": {
            "text/plain": [
              "['آخر',\n",
              " 'أجسام',\n",
              " 'أحد',\n",
              " 'أفكار',\n",
              " 'أنه',\n",
              " 'أنها',\n",
              " 'أهم',\n",
              " 'أوسع',\n",
              " 'الأعداد',\n",
              " 'التطورات',\n",
              " 'الجبر',\n",
              " 'الجديدة',\n",
              " 'الخوارزمي',\n",
              " 'الرياضيات',\n",
              " 'العربية',\n",
              " 'الفكرة',\n",
              " 'الكسرية',\n",
              " 'اللا',\n",
              " 'المفهوم',\n",
              " 'المهم',\n",
              " 'الموضوع',\n",
              " 'الهندسية',\n",
              " 'الوقت',\n",
              " 'اليوناني',\n",
              " 'بتطبيق',\n",
              " 'بدأت',\n",
              " 'بدايات',\n",
              " 'بطريقة',\n",
              " 'بعمل',\n",
              " 'بعيدا',\n",
              " 'بكثير',\n",
              " 'بمفهوم',\n",
              " 'تتعامل',\n",
              " 'تتيح',\n",
              " 'تحدث',\n",
              " 'جبرية',\n",
              " 'جديدا',\n",
              " 'جوهرها',\n",
              " 'خطوة',\n",
              " 'ربما',\n",
              " 'سمح',\n",
              " 'فقد',\n",
              " 'فهم',\n",
              " 'قامت',\n",
              " 'قبل',\n",
              " 'كان',\n",
              " 'كانت',\n",
              " 'كسرية',\n",
              " 'ككل',\n",
              " 'لإدخال',\n",
              " 'للتطور',\n",
              " 'للتنمية',\n",
              " 'للرياضيات',\n",
              " 'مسارا',\n",
              " 'مستقبلا',\n",
              " 'مهم',\n",
              " 'مهمة',\n",
              " 'موجودا',\n",
              " 'موحدة',\n",
              " 'نظرية',\n",
              " 'نفسها',\n",
              " 'نورية',\n",
              " 'هندسة',\n",
              " 'وأعطت',\n",
              " 'والأعداد',\n",
              " 'والمقادير',\n",
              " 'وجانب',\n",
              " 'وسيلة',\n",
              " 'وغيرها',\n",
              " 'وقم',\n",
              " 'وهي',\n",
              " 'کان']"
            ]
          },
          "execution_count": 220,
          "metadata": {},
          "output_type": "execute_result"
        }
      ]
    },
    {
      "cell_type": "markdown",
      "metadata": {
        "id": "6TYYq4JrOdsB"
      },
      "source": [
        "#### Pandas dataframe"
      ]
    },
    {
      "cell_type": "code",
      "metadata": {
        "id": "8PGFY3BiOdsC",
        "outputId": "9a0d8381-e337-46c5-aa24-6057c2870dbd"
      },
      "source": [
        "import pandas as pd\n",
        "\n",
        "df_english = pd.DataFrame(x_english, columns= cv_english.get_feature_names())\n",
        "df_english.shape"
      ],
      "execution_count": null,
      "outputs": [
        {
          "data": {
            "text/plain": [
              "(6, 56)"
            ]
          },
          "execution_count": 226,
          "metadata": {},
          "output_type": "execute_result"
        }
      ]
    },
    {
      "cell_type": "code",
      "metadata": {
        "id": "ahYcvGdhOdsE",
        "outputId": "ca7e7f2b-8b0a-4a7a-fbba-d7e449aecc94"
      },
      "source": [
        "df_english"
      ],
      "execution_count": null,
      "outputs": [
        {
          "data": {
            "text/html": [
              "<div>\n",
              "<style scoped>\n",
              "    .dataframe tbody tr th:only-of-type {\n",
              "        vertical-align: middle;\n",
              "    }\n",
              "\n",
              "    .dataframe tbody tr th {\n",
              "        vertical-align: top;\n",
              "    }\n",
              "\n",
              "    .dataframe thead th {\n",
              "        text-align: right;\n",
              "    }\n",
              "</style>\n",
              "<table border=\"1\" class=\"dataframe\">\n",
              "  <thead>\n",
              "    <tr style=\"text-align: right;\">\n",
              "      <th></th>\n",
              "      <th>advance</th>\n",
              "      <th>al</th>\n",
              "      <th>algebra</th>\n",
              "      <th>algebraic</th>\n",
              "      <th>allowed</th>\n",
              "      <th>allowedrational</th>\n",
              "      <th>another</th>\n",
              "      <th>applied</th>\n",
              "      <th>arabic</th>\n",
              "      <th>aspect</th>\n",
              "      <th>...</th>\n",
              "      <th>subject</th>\n",
              "      <th>theory</th>\n",
              "      <th>time</th>\n",
              "      <th>treated</th>\n",
              "      <th>understand</th>\n",
              "      <th>unifying</th>\n",
              "      <th>vehicle</th>\n",
              "      <th>way</th>\n",
              "      <th>whole</th>\n",
              "      <th>work</th>\n",
              "    </tr>\n",
              "  </thead>\n",
              "  <tbody>\n",
              "    <tr>\n",
              "      <th>0</th>\n",
              "      <td>1</td>\n",
              "      <td>1</td>\n",
              "      <td>1</td>\n",
              "      <td>0</td>\n",
              "      <td>0</td>\n",
              "      <td>0</td>\n",
              "      <td>0</td>\n",
              "      <td>0</td>\n",
              "      <td>1</td>\n",
              "      <td>0</td>\n",
              "      <td>...</td>\n",
              "      <td>0</td>\n",
              "      <td>0</td>\n",
              "      <td>1</td>\n",
              "      <td>0</td>\n",
              "      <td>0</td>\n",
              "      <td>0</td>\n",
              "      <td>0</td>\n",
              "      <td>0</td>\n",
              "      <td>0</td>\n",
              "      <td>1</td>\n",
              "    </tr>\n",
              "    <tr>\n",
              "      <th>1</th>\n",
              "      <td>0</td>\n",
              "      <td>0</td>\n",
              "      <td>0</td>\n",
              "      <td>0</td>\n",
              "      <td>0</td>\n",
              "      <td>0</td>\n",
              "      <td>0</td>\n",
              "      <td>0</td>\n",
              "      <td>0</td>\n",
              "      <td>0</td>\n",
              "      <td>...</td>\n",
              "      <td>0</td>\n",
              "      <td>0</td>\n",
              "      <td>0</td>\n",
              "      <td>0</td>\n",
              "      <td>1</td>\n",
              "      <td>0</td>\n",
              "      <td>0</td>\n",
              "      <td>0</td>\n",
              "      <td>0</td>\n",
              "      <td>0</td>\n",
              "    </tr>\n",
              "    <tr>\n",
              "      <th>2</th>\n",
              "      <td>0</td>\n",
              "      <td>0</td>\n",
              "      <td>0</td>\n",
              "      <td>0</td>\n",
              "      <td>0</td>\n",
              "      <td>0</td>\n",
              "      <td>0</td>\n",
              "      <td>0</td>\n",
              "      <td>0</td>\n",
              "      <td>0</td>\n",
              "      <td>...</td>\n",
              "      <td>0</td>\n",
              "      <td>0</td>\n",
              "      <td>0</td>\n",
              "      <td>0</td>\n",
              "      <td>0</td>\n",
              "      <td>0</td>\n",
              "      <td>0</td>\n",
              "      <td>0</td>\n",
              "      <td>0</td>\n",
              "      <td>0</td>\n",
              "    </tr>\n",
              "    <tr>\n",
              "      <th>3</th>\n",
              "      <td>0</td>\n",
              "      <td>0</td>\n",
              "      <td>1</td>\n",
              "      <td>1</td>\n",
              "      <td>0</td>\n",
              "      <td>1</td>\n",
              "      <td>0</td>\n",
              "      <td>0</td>\n",
              "      <td>0</td>\n",
              "      <td>0</td>\n",
              "      <td>...</td>\n",
              "      <td>0</td>\n",
              "      <td>1</td>\n",
              "      <td>0</td>\n",
              "      <td>1</td>\n",
              "      <td>0</td>\n",
              "      <td>1</td>\n",
              "      <td>0</td>\n",
              "      <td>0</td>\n",
              "      <td>0</td>\n",
              "      <td>0</td>\n",
              "    </tr>\n",
              "    <tr>\n",
              "      <th>4</th>\n",
              "      <td>0</td>\n",
              "      <td>0</td>\n",
              "      <td>0</td>\n",
              "      <td>0</td>\n",
              "      <td>0</td>\n",
              "      <td>0</td>\n",
              "      <td>0</td>\n",
              "      <td>0</td>\n",
              "      <td>0</td>\n",
              "      <td>0</td>\n",
              "      <td>...</td>\n",
              "      <td>1</td>\n",
              "      <td>0</td>\n",
              "      <td>0</td>\n",
              "      <td>0</td>\n",
              "      <td>0</td>\n",
              "      <td>0</td>\n",
              "      <td>1</td>\n",
              "      <td>0</td>\n",
              "      <td>1</td>\n",
              "      <td>0</td>\n",
              "    </tr>\n",
              "    <tr>\n",
              "      <th>5</th>\n",
              "      <td>0</td>\n",
              "      <td>0</td>\n",
              "      <td>0</td>\n",
              "      <td>1</td>\n",
              "      <td>1</td>\n",
              "      <td>0</td>\n",
              "      <td>1</td>\n",
              "      <td>1</td>\n",
              "      <td>0</td>\n",
              "      <td>1</td>\n",
              "      <td>...</td>\n",
              "      <td>0</td>\n",
              "      <td>0</td>\n",
              "      <td>0</td>\n",
              "      <td>0</td>\n",
              "      <td>0</td>\n",
              "      <td>0</td>\n",
              "      <td>0</td>\n",
              "      <td>1</td>\n",
              "      <td>0</td>\n",
              "      <td>0</td>\n",
              "    </tr>\n",
              "  </tbody>\n",
              "</table>\n",
              "<p>6 rows × 56 columns</p>\n",
              "</div>"
            ],
            "text/plain": [
              "   advance  al  algebra  algebraic  allowed  allowedrational  another  \\\n",
              "0        1   1        1          0        0                0        0   \n",
              "1        0   0        0          0        0                0        0   \n",
              "2        0   0        0          0        0                0        0   \n",
              "3        0   0        1          1        0                1        0   \n",
              "4        0   0        0          0        0                0        0   \n",
              "5        0   0        0          1        1                0        1   \n",
              "\n",
              "   applied  arabic  aspect  ...  subject  theory  time  treated  understand  \\\n",
              "0        0       1       0  ...        0       0     1        0           0   \n",
              "1        0       0       0  ...        0       0     0        0           1   \n",
              "2        0       0       0  ...        0       0     0        0           0   \n",
              "3        0       0       0  ...        0       1     0        1           0   \n",
              "4        0       0       0  ...        1       0     0        0           0   \n",
              "5        1       0       1  ...        0       0     0        0           0   \n",
              "\n",
              "   unifying  vehicle  way  whole  work  \n",
              "0         0        0    0      0     1  \n",
              "1         0        0    0      0     0  \n",
              "2         0        0    0      0     0  \n",
              "3         1        0    0      0     0  \n",
              "4         0        1    0      1     0  \n",
              "5         0        0    1      0     0  \n",
              "\n",
              "[6 rows x 56 columns]"
            ]
          },
          "execution_count": 223,
          "metadata": {},
          "output_type": "execute_result"
        }
      ]
    },
    {
      "cell_type": "code",
      "metadata": {
        "id": "n4_JgkydOdsG",
        "outputId": "bfc9c485-abe9-4d03-d3d9-760b816fa746"
      },
      "source": [
        "df_arabic = pd.DataFrame(x_arabic, columns= cv_arabic.get_feature_names())\n",
        "df_arabic.shape"
      ],
      "execution_count": null,
      "outputs": [
        {
          "data": {
            "text/plain": [
              "(2, 72)"
            ]
          },
          "execution_count": 227,
          "metadata": {},
          "output_type": "execute_result"
        }
      ]
    },
    {
      "cell_type": "code",
      "metadata": {
        "id": "GnOCAbKNOdsH",
        "outputId": "cc913d07-d287-4541-deb4-04cde7c41463"
      },
      "source": [
        "df_arabic"
      ],
      "execution_count": null,
      "outputs": [
        {
          "data": {
            "text/html": [
              "<div>\n",
              "<style scoped>\n",
              "    .dataframe tbody tr th:only-of-type {\n",
              "        vertical-align: middle;\n",
              "    }\n",
              "\n",
              "    .dataframe tbody tr th {\n",
              "        vertical-align: top;\n",
              "    }\n",
              "\n",
              "    .dataframe thead th {\n",
              "        text-align: right;\n",
              "    }\n",
              "</style>\n",
              "<table border=\"1\" class=\"dataframe\">\n",
              "  <thead>\n",
              "    <tr style=\"text-align: right;\">\n",
              "      <th></th>\n",
              "      <th>آخر</th>\n",
              "      <th>أجسام</th>\n",
              "      <th>أحد</th>\n",
              "      <th>أفكار</th>\n",
              "      <th>أنه</th>\n",
              "      <th>أنها</th>\n",
              "      <th>أهم</th>\n",
              "      <th>أوسع</th>\n",
              "      <th>الأعداد</th>\n",
              "      <th>التطورات</th>\n",
              "      <th>...</th>\n",
              "      <th>هندسة</th>\n",
              "      <th>وأعطت</th>\n",
              "      <th>والأعداد</th>\n",
              "      <th>والمقادير</th>\n",
              "      <th>وجانب</th>\n",
              "      <th>وسيلة</th>\n",
              "      <th>وغيرها</th>\n",
              "      <th>وقم</th>\n",
              "      <th>وهي</th>\n",
              "      <th>کان</th>\n",
              "    </tr>\n",
              "  </thead>\n",
              "  <tbody>\n",
              "    <tr>\n",
              "      <th>0</th>\n",
              "      <td>0</td>\n",
              "      <td>1</td>\n",
              "      <td>1</td>\n",
              "      <td>0</td>\n",
              "      <td>0</td>\n",
              "      <td>1</td>\n",
              "      <td>1</td>\n",
              "      <td>1</td>\n",
              "      <td>1</td>\n",
              "      <td>1</td>\n",
              "      <td>...</td>\n",
              "      <td>1</td>\n",
              "      <td>1</td>\n",
              "      <td>1</td>\n",
              "      <td>1</td>\n",
              "      <td>0</td>\n",
              "      <td>1</td>\n",
              "      <td>1</td>\n",
              "      <td>1</td>\n",
              "      <td>1</td>\n",
              "      <td>1</td>\n",
              "    </tr>\n",
              "    <tr>\n",
              "      <th>1</th>\n",
              "      <td>1</td>\n",
              "      <td>0</td>\n",
              "      <td>0</td>\n",
              "      <td>1</td>\n",
              "      <td>1</td>\n",
              "      <td>0</td>\n",
              "      <td>0</td>\n",
              "      <td>0</td>\n",
              "      <td>0</td>\n",
              "      <td>0</td>\n",
              "      <td>...</td>\n",
              "      <td>0</td>\n",
              "      <td>0</td>\n",
              "      <td>0</td>\n",
              "      <td>0</td>\n",
              "      <td>1</td>\n",
              "      <td>0</td>\n",
              "      <td>0</td>\n",
              "      <td>0</td>\n",
              "      <td>0</td>\n",
              "      <td>0</td>\n",
              "    </tr>\n",
              "  </tbody>\n",
              "</table>\n",
              "<p>2 rows × 72 columns</p>\n",
              "</div>"
            ],
            "text/plain": [
              "   آخر  أجسام  أحد  أفكار  أنه  أنها  أهم  أوسع  الأعداد  التطورات  ...  \\\n",
              "0    0      1    1      0    0     1    1     1        1         1  ...   \n",
              "1    1      0    0      1    1     0    0     0        0         0  ...   \n",
              "\n",
              "   هندسة  وأعطت  والأعداد  والمقادير  وجانب  وسيلة  وغيرها  وقم  وهي  کان  \n",
              "0      1      1         1          1      0      1       1    1    1    1  \n",
              "1      0      0         0          0      1      0       0    0    0    0  \n",
              "\n",
              "[2 rows x 72 columns]"
            ]
          },
          "execution_count": 230,
          "metadata": {},
          "output_type": "execute_result"
        }
      ]
    },
    {
      "cell_type": "code",
      "metadata": {
        "id": "SoZQQozfOdsI",
        "outputId": "d4852097-6e11-45cf-fb30-471d6e739496"
      },
      "source": [
        "arabic_corpus"
      ],
      "execution_count": null,
      "outputs": [
        {
          "data": {
            "text/plain": [
              "['ربما كانت أحد أهم التطورات قامت الرياضيات العربية بدأت الوقت بعمل الخوارزمي وهي بدايات الجبر, المهم فهم كانت الفكرة الجديدة مهمة, فقد كانت خطوة نورية بعيدا المفهوم اليوناني للرياضيات جوهرها هندسة, الجبر کان نظرية موحدة تتيح الأعداد الكسرية والأعداد اللا كسرية, والمقادير الهندسية وغيرها, تتعامل أنها أجسام جبرية, وأعطت الرياضيات ككل مسارا جديدا للتطور بمفهوم أوسع بكثير كان موجودا قبل, وقم وسيلة للتنمية الموضوع مستقبلا.',\n",
              " 'وجانب آخر مهم لإدخال أفكار الجبر أنه سمح بتطبيق الرياضيات نفسها بطريقة تحدث قبل']"
            ]
          },
          "execution_count": 229,
          "metadata": {},
          "output_type": "execute_result"
        }
      ]
    },
    {
      "cell_type": "markdown",
      "metadata": {
        "id": "gny3eH2BOdsJ"
      },
      "source": [
        "# Limitations of Bag-of-Words"
      ]
    },
    {
      "cell_type": "markdown",
      "metadata": {
        "id": "YxOPl7ZrOdsK"
      },
      "source": [
        "The bag-of-words model is very simple to understand and implement and offers a lot of flexibility for customization \n",
        "on your specific text data.\n",
        "\n",
        "Nevertheless, it suffers from some shortcomings, such as:\n",
        "\n",
        "   \n",
        "   1- ***Vocabulary***: The vocabulary requires careful design, most specifically in order to manage the size, which impacts the sparsity of the document representations.\n",
        "   \n",
        "   \n",
        "   2- ***Sparsity***: Sparse representations are harder to model both for computational reasons (space and time complexity) and also for information reasons, where the challenge is for the models to harness so little information in such a large representational space.\n",
        "   \n",
        "   3- ***Meaning***: Discarding word order ignores the context, and in turn meaning of words in the document (semantics). Context and meaning can offer a lot to the model, that if modeled could tell the difference between the same words differently arranged (“this is interesting” vs “is this interesting”), synonyms (“old bike” vs “used bike”), and much more."
      ]
    },
    {
      "cell_type": "markdown",
      "metadata": {
        "id": "Mi_YMGdiOdsM"
      },
      "source": [
        "### Printing Dependencies"
      ]
    },
    {
      "cell_type": "code",
      "metadata": {
        "id": "nWEqZOmUOdsN"
      },
      "source": [
        "%load_ext watermark"
      ],
      "execution_count": null,
      "outputs": []
    },
    {
      "cell_type": "code",
      "metadata": {
        "id": "Ob-ui6B_OdsO",
        "outputId": "0fb44f06-ed32-42ef-8a41-777d4cdd34a5"
      },
      "source": [
        "%watermark --iversion"
      ],
      "execution_count": null,
      "outputs": [
        {
          "name": "stdout",
          "output_type": "stream",
          "text": [
            "re    : 2.2.1\n",
            "pandas: 1.1.3\n",
            "nltk  : 3.5\n",
            "\n"
          ]
        }
      ]
    }
  ]
}